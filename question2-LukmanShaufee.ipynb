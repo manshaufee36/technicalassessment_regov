{
 "cells": [
  {
   "cell_type": "code",
   "execution_count": 1,
   "id": "66091751-ff11-4053-831a-3f96c85e2680",
   "metadata": {},
   "outputs": [],
   "source": [
    "#Technical Assessment ReGov Technologies\n",
    "#Question 2 - By Lukman Shaufee\n",
    "\n",
    "#Import libraries to be use\n",
    "from flask import Flask, request, jsonify\n",
    "from flask_mysqldb import MySQL"
   ]
  },
  {
   "cell_type": "code",
   "execution_count": 2,
   "id": "482f3ae2-0feb-4744-bd52-c938f61f7560",
   "metadata": {},
   "outputs": [],
   "source": [
    "#Initialize Flask\n",
    "app = Flask(__name__)\n",
    "\n",
    "#MySQL Databases Connection\n",
    "app.config['MYSQL_HOST'] = 'LAPTOP-J2ECD1FD'\n",
    "app.config['MYSQL_USER'] = 'root'\n",
    "app.config['MYSQL_PASSWORD'] = 'Lu@850224'\n",
    "app.config['MYSQL_DB'] = 'regovtest'\n",
    "\n",
    "mysql = MySQL(app)"
   ]
  },
  {
   "cell_type": "code",
   "execution_count": 3,
   "id": "c4d3265f-bb48-4816-ab9b-da2c1efffe9b",
   "metadata": {},
   "outputs": [],
   "source": [
    "#Create API Endpoints\n",
    "@app.route('/register', methods=['POST'])\n",
    "def register():\n",
    "    username = request.form['username']\n",
    "    password = request.form['password']\n",
    "\n",
    "    cur = mysql.connection.cursor()\n",
    "    cur.execute(\"INSERT INTO users (username, password) VALUES (%s, %s)\", (username, password))\n",
    "    mysql.connection.commit()\n",
    "    cur.close()\n",
    "\n",
    "    return jsonify(message='Registered Completed')\n",
    "\n",
    "@app.route('/login', methods=['POST'])\n",
    "def login():\n",
    "    username = request.form['username']\n",
    "    password = request.form['password']\n",
    "\n",
    "    cur = mysql.connection.cursor()\n",
    "    cur.execute(\"SELECT * FROM users WHERE username = %s AND password = %s\", (username, password))\n",
    "    user = cur.fetchone()\n",
    "    cur.close()\n",
    "\n",
    "    if user:\n",
    "        return jsonify(message='Log-In Completed')\n",
    "    else:\n",
    "        return jsonify(message='Invalid Account')\n",
    "\n",
    "@app.route('/logout', methods=['POST'])\n",
    "def logout():\n",
    "    # Perform logout operations here\n",
    "    return jsonify(message='You have Log-ed Out')"
   ]
  },
  {
   "cell_type": "code",
   "execution_count": null,
   "id": "3958718a-164b-40ac-acb7-6d91873f3468",
   "metadata": {},
   "outputs": [
    {
     "name": "stdout",
     "output_type": "stream",
     "text": [
      " * Serving Flask app \"__main__\" (lazy loading)\n",
      " * Environment: production\n",
      "   WARNING: This is a development server. Do not use it in a production deployment.\n",
      "   Use a production WSGI server instead.\n",
      " * Debug mode: off\n"
     ]
    },
    {
     "name": "stderr",
     "output_type": "stream",
     "text": [
      " * Running on http://127.0.0.1:5000/ (Press CTRL+C to quit)\n"
     ]
    }
   ],
   "source": [
    "#This part is to run the flask\n",
    "if __name__ == '__main__':\n",
    "    app.run()"
   ]
  },
  {
   "cell_type": "code",
   "execution_count": null,
   "id": "10231b2a-95f1-495c-9c76-a3b80e3fed72",
   "metadata": {},
   "outputs": [],
   "source": []
  }
 ],
 "metadata": {
  "kernelspec": {
   "display_name": "Python 3",
   "language": "python",
   "name": "python3"
  },
  "language_info": {
   "codemirror_mode": {
    "name": "ipython",
    "version": 3
   },
   "file_extension": ".py",
   "mimetype": "text/x-python",
   "name": "python",
   "nbconvert_exporter": "python",
   "pygments_lexer": "ipython3",
   "version": "3.8.8"
  }
 },
 "nbformat": 4,
 "nbformat_minor": 5
}
